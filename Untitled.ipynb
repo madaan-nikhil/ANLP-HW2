{
 "cells": [
  {
   "cell_type": "code",
   "execution_count": 1,
   "id": "777afb13-1129-4ed0-b241-a6ae923e4f1d",
   "metadata": {},
   "outputs": [],
   "source": [
    "import pickle"
   ]
  },
  {
   "cell_type": "code",
   "execution_count": 2,
   "id": "0981c703-bb04-4241-b308-b0f3928623ac",
   "metadata": {},
   "outputs": [],
   "source": [
    "with open('data/10.1007_3-540-49478-2_7.tokens', 'rb') as f:\n",
    "    doc = pickle.load(f)"
   ]
  },
  {
   "cell_type": "code",
   "execution_count": 6,
   "id": "ba06807f-eb2e-4f9a-a2d5-f4ee41cde8eb",
   "metadata": {},
   "outputs": [],
   "source": [
    "out = \"\"\n",
    "for token in doc:\n",
    "    out = out + str(token) + \" \"\n",
    "out = out[:-1]"
   ]
  },
  {
   "cell_type": "code",
   "execution_count": 8,
   "id": "b6b39bdd-43a7-4f37-b180-3f68692a15e6",
   "metadata": {},
   "outputs": [],
   "source": [
    "import json"
   ]
  },
  {
   "cell_type": "code",
   "execution_count": 11,
   "id": "36e8e082-4bff-4b73-a20e-59354a639834",
   "metadata": {},
   "outputs": [],
   "source": [
    "with open(\"doc.json\", \"w\") as f:\n",
    "    json.dump([{'text': out, 'paper_id': 1010}], f)"
   ]
  }
 ],
 "metadata": {
  "kernelspec": {
   "display_name": "Python 3 (ipykernel)",
   "language": "python",
   "name": "python3"
  },
  "language_info": {
   "codemirror_mode": {
    "name": "ipython",
    "version": 3
   },
   "file_extension": ".py",
   "mimetype": "text/x-python",
   "name": "python",
   "nbconvert_exporter": "python",
   "pygments_lexer": "ipython3",
   "version": "3.8.10"
  }
 },
 "nbformat": 4,
 "nbformat_minor": 5
}
